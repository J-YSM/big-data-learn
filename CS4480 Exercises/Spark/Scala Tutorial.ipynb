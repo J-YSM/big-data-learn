{
 "cells": [
  {
   "cell_type": "code",
   "execution_count": 6,
   "metadata": {
    "collapsed": false
   },
   "outputs": [
    {
     "name": "stderr",
     "output_type": "stream",
     "text": []
    },
    {
     "name": "stdout",
     "output_type": "stream",
     "text": []
    },
    {
     "data": {
      "text/plain": [
       "6"
      ]
     },
     "execution_count": 6,
     "metadata": {},
     "output_type": "execute_result"
    }
   ],
   "source": [
    "2*3"
   ]
  },
  {
   "cell_type": "code",
   "execution_count": 11,
   "metadata": {
    "collapsed": false
   },
   "outputs": [
    {
     "name": "stdout",
     "output_type": "stream",
     "text": []
    },
    {
     "name": "stderr",
     "output_type": "stream",
     "text": []
    },
    {
     "data": {
      "text/plain": [
       "11"
      ]
     },
     "execution_count": 11,
     "metadata": {},
     "output_type": "execute_result"
    }
   ],
   "source": [
    "val a = 10;\n",
    "val b = a+1;\n",
    "b"
   ]
  },
  {
   "cell_type": "code",
   "execution_count": 12,
   "metadata": {
    "collapsed": false
   },
   "outputs": [
    {
     "name": "stdout",
     "output_type": "stream",
     "text": []
    },
    {
     "ename": "",
     "evalue": "",
     "output_type": "error",
     "traceback": [
      "<console>:8: error: reassignment to val",
      "       a = a + 1",
      "         ^"
     ]
    },
    {
     "name": "stderr",
     "output_type": "stream",
     "text": []
    }
   ],
   "source": [
    "a = a + 1"
   ]
  },
  {
   "cell_type": "code",
   "execution_count": 14,
   "metadata": {
    "collapsed": false
   },
   "outputs": [
    {
     "name": "stdout",
     "output_type": "stream",
     "text": [
      "9\n"
     ]
    },
    {
     "name": "stderr",
     "output_type": "stream",
     "text": []
    }
   ],
   "source": [
    "// type declaration\n",
    "def add(a:Int, b:Int):Int = a + b\n",
    "val m:Int = add(7, 2)\n",
    "println(m)"
   ]
  },
  {
   "cell_type": "code",
   "execution_count": 16,
   "metadata": {
    "collapsed": false
   },
   "outputs": [
    {
     "name": "stdout",
     "output_type": "stream",
     "text": [
      "30\n"
     ]
    },
    {
     "name": "stderr",
     "output_type": "stream",
     "text": []
    }
   ],
   "source": [
    "def fun(a: Int):Int = {\n",
    "a + 1\n",
    "a - 2\n",
    "a * 3 // last expression returned automatically\n",
    "}\n",
    "val p:Int = fun(10)\n",
    "println(p) "
   ]
  },
  {
   "cell_type": "code",
   "execution_count": 19,
   "metadata": {
    "collapsed": false
   },
   "outputs": [
    {
     "name": "stdout",
     "output_type": "stream",
     "text": [
      "3\n"
     ]
    },
    {
     "name": "stderr",
     "output_type": "stream",
     "text": []
    }
   ],
   "source": [
    "// implicit type inferred int + int is int\n",
    "def add(a:Int, b:Int) = a + b\n",
    "val m = add(1, 2)\n",
    "println(m)"
   ]
  },
  {
   "cell_type": "code",
   "execution_count": 21,
   "metadata": {
    "collapsed": false
   },
   "outputs": [
    {
     "ename": "",
     "evalue": "",
     "output_type": "error",
     "traceback": [
      "parse error"
     ]
    },
    {
     "name": "stdout",
     "output_type": "stream",
     "text": []
    }
   ],
   "source": [
    "// no type declared when defining object\n",
    "def add(a, b) = a + b\n",
    "val m = add(1, 2)\n",
    "println(m)\n",
    "// Scala does NOT infer type of function\n",
    "// parameters, unlike languages like Haskell/ML. Scala is said to do\n",
    "// local, \"\n",
    "// ow-based\" type inference while Haskell/ML do\n",
    "// Hindley-Milner type inference"
   ]
  },
  {
   "cell_type": "code",
   "execution_count": 24,
   "metadata": {
    "collapsed": false
   },
   "outputs": [
    {
     "name": "stdout",
     "output_type": "stream",
     "text": [
      "-1\n",
      "hello\n"
     ]
    },
    {
     "name": "stderr",
     "output_type": "stream",
     "text": []
    }
   ],
   "source": [
    "// every val in scala is expression to be eval, \n",
    "// rather than proc statements\n",
    "val i = 3\n",
    "val p = if (i > 0) -1 else -2\n",
    "val q = if (true) \"hello\" else \"world\"\n",
    "// val k = (i <0) ? -1 : 1\n",
    "println(p)\n",
    "println(q)"
   ]
  },
  {
   "cell_type": "code",
   "execution_count": 25,
   "metadata": {
    "collapsed": false
   },
   "outputs": [
    {
     "name": "stdout",
     "output_type": "stream",
     "text": [
      "Permission denied\n",
      "Invalid operation\n"
     ]
    },
    {
     "name": "stderr",
     "output_type": "stream",
     "text": []
    }
   ],
   "source": [
    "// automatically \"returns\" the value of the expression\n",
    "// corresponding to the matching input values to case.\n",
    "def errorMsg(errorCode: Int) = errorCode match {\n",
    "case 1 => \"File not found\"\n",
    "case 2 => \"Permission denied\"\n",
    "case 3 => \"Invalid operation\"\n",
    "}\n",
    "\n",
    "println(errorMsg(2))\n",
    "println(errorMsg(3))"
   ]
  },
  {
   "cell_type": "code",
   "execution_count": 26,
   "metadata": {
    "collapsed": false
   },
   "outputs": [
    {
     "name": "stdout",
     "output_type": "stream",
     "text": [
      "55\n"
     ]
    },
    {
     "name": "stderr",
     "output_type": "stream",
     "text": []
    }
   ],
   "source": [
    "// resursion till base case than eval from root depth->width traverse\n",
    "// sum n + (n-1) + (n-2) + ... + 0\n",
    "def sum(n: Int): Int =\n",
    "if (n == 0) 0 \n",
    "else n + sum(n - 1)\n",
    "\n",
    "val m = sum(10) //  10/2*(10+1) = 55\n",
    "println(m)\n",
    "\n",
    "// (sum 4)\n",
    "// (4 + sum 3)\n",
    "// (4 + (3 + sum 2))\n",
    "// (4 + (3 + (2 + sum 1)))\n",
    "// (4 + (3 + (2 + (1 + sum 0))))\n",
    "// (4 + (3 + (2 + (1 + 0))))\n",
    "// (4 + (3 + (2 + 1)))\n",
    "// (4 + (3 + 3))\n",
    "// (4 + 6)\n",
    "// (10)"
   ]
  },
  {
   "cell_type": "code",
   "execution_count": 31,
   "metadata": {
    "collapsed": false
   },
   "outputs": [
    {
     "name": "stderr",
     "output_type": "stream",
     "text": []
    },
    {
     "ename": "java.lang.StackOverflowError",
     "evalue": "",
     "output_type": "error",
     "traceback": [
      "java.lang.StackOverflowError: "
     ]
    },
    {
     "name": "stdout",
     "output_type": "stream",
     "text": []
    }
   ],
   "source": [
    "// max depth of recursion\n",
    "sum(100000)"
   ]
  },
  {
   "cell_type": "code",
   "execution_count": 33,
   "metadata": {
    "collapsed": false
   },
   "outputs": [
    {
     "name": "stdout",
     "output_type": "stream",
     "text": [
      "705082704\n"
     ]
    },
    {
     "name": "stderr",
     "output_type": "stream",
     "text": []
    }
   ],
   "source": [
    "// tail recursion avoid stack overflow\n",
    "def sum(n: Int, acc: Int):Int =\n",
    "if(n == 0) acc \n",
    "else sum(n - 1, acc + n) // eval intermediate acc asap\n",
    "\n",
    "val r = sum(100000, 0)\n",
    "println(r)\n",
    "\n",
    "// (sum 4 0)\n",
    "// (sum 3 4)\n",
    "// (sum 2 7)\n",
    "// (sum 1 9)\n",
    "// (sum 0 10)\n",
    "// (10)"
   ]
  },
  {
   "cell_type": "code",
   "execution_count": 32,
   "metadata": {
    "collapsed": false
   },
   "outputs": [
    {
     "ename": "",
     "evalue": "",
     "output_type": "error",
     "traceback": [
      "<console>:7: error: only classes can have declared but undefined members",
      "              val acc:Int;",
      "                  ^"
     ]
    },
    {
     "name": "stderr",
     "output_type": "stream",
     "text": []
    },
    {
     "name": "stdout",
     "output_type": "stream",
     "text": []
    }
   ],
   "source": [
    "val acc:Int;\n",
    "acc"
   ]
  },
  {
   "cell_type": "code",
   "execution_count": 34,
   "metadata": {
    "collapsed": false
   },
   "outputs": [
    {
     "name": "stdout",
     "output_type": "stream",
     "text": [
      "55\n",
      "385\n",
      "3025\n"
     ]
    },
    {
     "name": "stderr",
     "output_type": "stream",
     "text": []
    }
   ],
   "source": [
    "def sqr(x: Int) = x * x\n",
    "def cube(x: Int) = x * x * x\n",
    "def sumSimple(a: Int, b: Int): Int =\n",
    "if (a == b) a else a + sumSimple(a + 1, b)\n",
    "def sumSquares(a: Int, b: Int): Int =\n",
    "if (a == b) sqr(a) else sqr(a) + sumSquares(a + 1, b)\n",
    "def sumCubes(a: Int, b: Int): Int =\n",
    "if (a == b) cube(a) else cube(a) + sumCubes(a + 1, b)\n",
    "println(sumSimple(1,10))\n",
    "println(sumSquares(1,10))\n",
    "println(sumCubes(1,10))"
   ]
  },
  {
   "cell_type": "code",
   "execution_count": 35,
   "metadata": {
    "collapsed": false
   },
   "outputs": [
    {
     "name": "stdout",
     "output_type": "stream",
     "text": [
      "55\n",
      "385\n",
      "3025\n"
     ]
    },
    {
     "name": "stderr",
     "output_type": "stream",
     "text": []
    }
   ],
   "source": [
    "// accepts abstract (Int=>Int) function f as parameter\n",
    "// reusing generic sum a + b abstraction\n",
    "def identity(x: Int) = x\n",
    "def sqr(x: Int) = x * x\n",
    "def cube(x: Int) = x * x * x\n",
    "// sum is higher order function\n",
    "def sum(f: Int=>Int, a: Int, b: Int): Int =\n",
    "if (a == b) f(a) else f(a) + sum(f, a + 1, b)\n",
    "println(sum(identity, 1, 10))\n",
    "println(sum(sqr, 1, 10))\n",
    "println(sum(cube, 1, 10))"
   ]
  },
  {
   "cell_type": "code",
   "execution_count": 36,
   "metadata": {
    "collapsed": false
   },
   "outputs": [
    {
     "name": "stdout",
     "output_type": "stream",
     "text": [
      "55\n",
      "385\n",
      "3025\n"
     ]
    },
    {
     "name": "stderr",
     "output_type": "stream",
     "text": []
    }
   ],
   "source": [
    "// anonymous function on the fly that uses Int=>Int data type\n",
    "// specified by parameter's function interface \n",
    "println(sum(x=>x, 1, 10))\n",
    "println(sum(x=>x*x, 1, 10))\n",
    "println(sum(x=>x*x*x, 1, 10))"
   ]
  },
  {
   "cell_type": "code",
   "execution_count": 37,
   "metadata": {
    "collapsed": false
   },
   "outputs": [
    {
     "name": "stdout",
     "output_type": "stream",
     "text": [
      "List(1, 4, 9, 16, 25, 36, 49)\n",
      "List(1, 2, 3, 4)\n",
      "28\n"
     ]
    },
    {
     "name": "stderr",
     "output_type": "stream",
     "text": []
    }
   ],
   "source": [
    "//Methods on collections: Map/Filter/Reduce\n",
    "val a = List(1,2,3,4,5,6,7)\n",
    "val b = a.map(x => x * x) // apply mapper to each element\n",
    "val c = a.filter(x => x < 5)\n",
    "val d = a.reduce((x, y)=>x+y) // reduce into single element\n",
    "println(b)\n",
    "println(c)\n",
    "println(d)"
   ]
  },
  {
   "cell_type": "code",
   "execution_count": 38,
   "metadata": {
    "collapsed": false
   },
   "outputs": [
    {
     "name": "stdout",
     "output_type": "stream",
     "text": [
      "false\n",
      "true\n",
      "List(2, 4, 6)\n",
      "(List(2, 4, 6),List(1, 3, 5, 7))\n"
     ]
    },
    {
     "name": "stderr",
     "output_type": "stream",
     "text": []
    }
   ],
   "source": [
    "// object collections methods\n",
    "def even(x: Int) = (x % 2) == 0\n",
    "val a = List(1,2,3,4,5,6,7) \n",
    "val b = List(2, 4, 6, 5, 10, 11, 13, 12)\n",
    "\n",
    "// are all members even?\n",
    "println(a.forall(even))\n",
    "\n",
    "// is there an even element in the sequence?\n",
    "println(a.exists(even))\n",
    "\n",
    "//take while the element is even -\n",
    "//stop at the first odd element\n",
    "println(b.takeWhile(even))\n",
    "\n",
    "//partition into two sublists: even T and odd F\n",
    "println(a.partition(even))"
   ]
  },
  {
   "cell_type": "code",
   "execution_count": 42,
   "metadata": {
    "collapsed": false
   },
   "outputs": [
    {
     "name": "stdout",
     "output_type": "stream",
     "text": [
      "12\n",
      "11\n"
     ]
    },
    {
     "name": "stderr",
     "output_type": "stream",
     "text": []
    },
    {
     "data": {
      "text/plain": [
       "1"
      ]
     },
     "execution_count": 42,
     "metadata": {},
     "output_type": "execute_result"
    }
   ],
   "source": [
    "// scope of variable / block structure\n",
    "def fun(x: Int) = {\n",
    "    val y = 1\n",
    "    \n",
    "val r = {\n",
    "    val y = 2\n",
    "    x + y // uses inner scope y = 2\n",
    "}\n",
    "    \n",
    "    println(r)\n",
    "    println(x + y)\n",
    "    y // within scope var\n",
    "}\n",
    "\n",
    "fun(10)"
   ]
  },
  {
   "cell_type": "code",
   "execution_count": 47,
   "metadata": {
    "collapsed": false
   },
   "outputs": [
    {
     "name": "stdout",
     "output_type": "stream",
     "text": []
    },
    {
     "name": "stderr",
     "output_type": "stream",
     "text": []
    },
    {
     "data": {
      "text/plain": [
       "49"
      ]
     },
     "execution_count": 47,
     "metadata": {},
     "output_type": "execute_result"
    }
   ],
   "source": [
    "// nested functions\n",
    "// val = funcs returning funcs\n",
    "def fun():Int => Int = {\n",
    "    def sqr(x:Int):Int = x*x\n",
    "    sqr\n",
    "}\n",
    "\n",
    "val f = fun()\n",
    "f\n",
    "\n",
    "f(7) // Quite confusing, since f is function as val and takes no input"
   ]
  },
  {
   "cell_type": "code",
   "execution_count": 62,
   "metadata": {
    "collapsed": false
   },
   "outputs": [
    {
     "name": "stdout",
     "output_type": "stream",
     "text": [
      "8\n",
      "8\n",
      "()\n"
     ]
    },
    {
     "name": "stderr",
     "output_type": "stream",
     "text": []
    }
   ],
   "source": [
    "// lexical closure\n",
    "// \"closure\" is a function which carries with it references to\n",
    "// the (local) environment in which it was defined.\n",
    "def fun1(): Int=>Int ={\n",
    "    val y=1\n",
    "    def add(x:Int) = x+y\n",
    "    add\n",
    "}\n",
    "println(fun1()(7)) // passing parameter to nested function without input\n",
    "\n",
    "def fun2() ={ // no need interface for i/o\n",
    "    val y = 5\n",
    "    val f = fun1() // fun1 returns a \"closure\" so y = 1 still\n",
    "    println(f(7)) // 8 or 12?\n",
    "}\n",
    "println(fun2())"
   ]
  },
  {
   "cell_type": "code",
   "execution_count": 78,
   "metadata": {
    "collapsed": false
   },
   "outputs": [
    {
     "name": "stdout",
     "output_type": "stream",
     "text": [
      "12\n",
      "12\n"
     ]
    },
    {
     "name": "stderr",
     "output_type": "stream",
     "text": []
    }
   ],
   "source": [
    "// lexical closure with anonymous functions\n",
    "def fun1(y: Int): Int=>Int ={\n",
    "    x=>x+y\n",
    "}\n",
    "def fun2() = {\n",
    "    val f = fun1(5) // fun1 returns anonymous function (lazy eval)\n",
    "    // anonymous fn same as named fn\n",
    "    // nested fn with currying\n",
    "    println(f(7))\n",
    "    println(fun1(5)(7))\n",
    "}\n",
    "fun2()"
   ]
  },
  {
   "cell_type": "code",
   "execution_count": 68,
   "metadata": {
    "collapsed": false
   },
   "outputs": [
    {
     "name": "stdout",
     "output_type": "stream",
     "text": [
      "64\n",
      "List(1, 64, 729, 4096)\n",
      "List(1, 64, 729, 4096)\n"
     ]
    },
    {
     "name": "stderr",
     "output_type": "stream",
     "text": []
    }
   ],
   "source": [
    "def sqr(x:Int) = x*x\n",
    "def cube(x:Int) = x*x*x\n",
    "// 2 parameter as higher order functions\n",
    "def compose(f:Int=>Int, g:Int=>Int): Int=>Int = {x=>f(g(x))}\n",
    "\n",
    "val f = compose(sqr,cube)\n",
    "println(f(2))\n",
    "\n",
    "val a = List(1,2,3,4) //List not list\n",
    "println(a.map(f))\n",
    "println(a.map(cube).map(sqr))"
   ]
  },
  {
   "cell_type": "code",
   "execution_count": 70,
   "metadata": {
    "collapsed": false
   },
   "outputs": [
    {
     "name": "stdout",
     "output_type": "stream",
     "text": [
      "List(99, 50)\n"
     ]
    },
    {
     "name": "stderr",
     "output_type": "stream",
     "text": []
    }
   ],
   "source": [
    "def removeLowScores(a:List[Int],threshold:Int): List[Int] = {\n",
    "     // closure here since it refers to variable \"threshold\"\n",
    "     // which is not in local environment (parameter list i.e. score)\n",
    "    a.filter(score => score >= threshold)\n",
    "}\n",
    "val a = List(99,2,8,14,50)\n",
    "println(removeLowScores(a,50))\n"
   ]
  },
  {
   "cell_type": "code",
   "execution_count": 76,
   "metadata": {
    "collapsed": false
   },
   "outputs": [
    {
     "name": "stdout",
     "output_type": "stream",
     "text": [
      "30\n",
      "30\n"
     ]
    },
    {
     "name": "stderr",
     "output_type": "stream",
     "text": []
    }
   ],
   "source": [
    "// Discovered by Haskell Curry, currying is the technique of\n",
    "// transforming a function that takes multiple arguments (or a tuple\n",
    "// of arguments) in such a way that it can be called as a chain of\n",
    "// functions, each with a single argument. i.e. nest over nest\n",
    "\n",
    "// 2 arguments\n",
    "def addA(x:Int, y:Int):Int = x+y\n",
    "def addB(x:Int):Int=>Int = y=>x+y //nested function\n",
    "\n",
    "val a = addA(10,20)\n",
    "val b = addB(10)(20)\n",
    "\n",
    "println(a);println(b)"
   ]
  },
  {
   "cell_type": "code",
   "execution_count": 77,
   "metadata": {
    "collapsed": false
   },
   "outputs": [
    {
     "name": "stdout",
     "output_type": "stream",
     "text": [
      "6\n",
      "6\n"
     ]
    },
    {
     "name": "stderr",
     "output_type": "stream",
     "text": []
    }
   ],
   "source": [
    "// 3 arguments\n",
    "def addA(x: Int, y: Int, z: Int) = x + y + z\n",
    "def addB(x: Int): Int => (Int => Int) = \n",
    "    y => (z => x + y + z) // y,z,... refers to x:Int as (2)(3)...\n",
    "\n",
    "val a = addA(1, 2, 3)\n",
    "val b = addB(1)(2)(3)\n",
    "println(a)\n",
    "println(b)"
   ]
  },
  {
   "cell_type": "code",
   "execution_count": 82,
   "metadata": {
    "collapsed": false,
    "scrolled": true
   },
   "outputs": [
    {
     "name": "stdout",
     "output_type": "stream",
     "text": [
      "List()\n",
      "List()\n",
      "List(0, 1, 2, 3)\n",
      "List(0)\n"
     ]
    },
    {
     "name": "stderr",
     "output_type": "stream",
     "text": []
    }
   ],
   "source": [
    "//List operations\n",
    "val a = List(1,2,3)\n",
    "val b = Nil\n",
    "val c = List()\n",
    "val d = 0::a\n",
    "val e = 0::b\n",
    "println(b)\n",
    "println(c)\n",
    "println(d) // List(0,1,2,3)\n",
    "println(e) // List(0)\n",
    "// Nil and List() are both \"empty\" lists\n",
    "// a::b returns a new list with \"a\" as the first item (the \"head\")\n",
    "// and remaining part b (called the \"tail\")"
   ]
  },
  {
   "cell_type": "code",
   "execution_count": null,
   "metadata": {
    "collapsed": true
   },
   "outputs": [],
   "source": [
    "import scala._    // Wild card -- all of Scala is imported\n",
    "import scala.{ Predef => _, _ } // Exception, everything except Predef\n",
    "def f[M[_]]       // Higher kinded type parameter\n",
    "def f(m: M[_])    // Existential type\n",
    "_ + _             // Anonymous function placeholder parameter\n",
    "m _               // Eta expansion of method into method value\n",
    "m(_)              // Partial function application\n",
    "_ => 5            // Discarded parameter\n",
    "case _ =>         // Wild card pattern -- matches anything\n",
    "val (a, _) = (1, 2) // same thing\n",
    "for (_ <- 1 to 10)  // same thing\n",
    "f(xs: _*)         // Sequence xs is passed as multiple parameters to f(ys: T*)\n",
    "case Seq(xs @ _*) // Identifier xs is bound to the whole matched sequence\n",
    "var i: Int = _    // Initialization to the default value\n",
    "def abc_<>!       // An underscore must separate alphanumerics from symbols on identifiers\n",
    "t._2              // Part of a method name, such as tuple getters"
   ]
  },
  {
   "cell_type": "code",
   "execution_count": 81,
   "metadata": {
    "collapsed": false
   },
   "outputs": [
    {
     "name": "stdout",
     "output_type": "stream",
     "text": [
      "30\n",
      "-1\n",
      "-1\n"
     ]
    },
    {
     "name": "stderr",
     "output_type": "stream",
     "text": []
    }
   ],
   "source": [
    "// shorthand expression x=>x+1 is _+1\n",
    "// a.reduce(_||_) is a.reduce((x,y))=>x||y\n",
    "\n",
    "// many possible return, thus no declaration of return type\n",
    "def fun(a: List[Int]) = a match {\n",
    "    case List(0, p, q) => p + q\n",
    "    case _ => -1 \n",
    "}\n",
    "println(fun(List(0, 10, 20)))\n",
    "println(fun(List(0, 1, 2, 3))) // length exceed 3\n",
    "println(fun(List(1, 10, 20))) // did not start with 0\n",
    "\n",
    "// Pattern matching helps you \"pull-apart\" complex datastructures\n",
    "// and analyse their components in an elegant way. In the above\n",
    "// case, the function will return the sum of the second and third\n",
    "// elements for any three element List of integers starting with a 0\n",
    "// the value -1 is returned for any other list"
   ]
  },
  {
   "cell_type": "code",
   "execution_count": 84,
   "metadata": {
    "collapsed": false
   },
   "outputs": [
    {
     "name": "stdout",
     "output_type": "stream",
     "text": [
      "30\n"
     ]
    },
    {
     "ename": "scala.MatchError",
     "evalue": "List(0, 1, 2, 3) (of class scala.collection.immutable.$colon$colon)",
     "output_type": "error",
     "traceback": [
      "scala.MatchError: List(0, 1, 2, 3) (of class scala.collection.immutable.$colon$colon)"
     ]
    },
    {
     "name": "stdout",
     "output_type": "stream",
     "text": []
    },
    {
     "name": "stderr",
     "output_type": "stream",
     "text": []
    }
   ],
   "source": [
    "def fun(a: List[Int]) = a match {\n",
    "case List(0, p, q) => p + q\n",
    "case List() => -1 // did not cover all cases i.e. not exhaustive\n",
    "}\n",
    "println(fun(List(0, 10, 20)))\n",
    "println(fun(List(0, 1, 2, 3))) // length exceed 3\n",
    "println(fun(List(1, 10, 20))) // did not start with 0"
   ]
  },
  {
   "cell_type": "code",
   "execution_count": 87,
   "metadata": {
    "collapsed": false
   },
   "outputs": [
    {
     "name": "stdout",
     "output_type": "stream",
     "text": [
      "0\n",
      "4\n",
      "100\n"
     ]
    },
    {
     "name": "stderr",
     "output_type": "stream",
     "text": []
    }
   ],
   "source": [
    "def length(a: List[Int]):Int = a match {\n",
    "    case Nil => 0\n",
    "    case h::t => 1 + length(t)\n",
    "}\n",
    "def sumList(a: List[Int]):Int = a match {\n",
    "    case Nil => 0\n",
    "    case h::t => h + sumList(t) //tail recursion\n",
    "}\n",
    "\n",
    "\n",
    "println(length(List()))\n",
    "println(length(List(10,20,30,40)))\n",
    "println(sumList(List(10,20,30,40)))"
   ]
  },
  {
   "cell_type": "code",
   "execution_count": 88,
   "metadata": {
    "collapsed": false
   },
   "outputs": [
    {
     "name": "stdout",
     "output_type": "stream",
     "text": [
      "10\n",
      "5\n"
     ]
    },
    {
     "name": "stderr",
     "output_type": "stream",
     "text": []
    }
   ],
   "source": [
    "// Building our own data types with case classes\n",
    "// name of attribute is also attribute accessor methods\n",
    "case class Circle(r: Int)\n",
    "case class Rectangle(h: Int, w: Int)\n",
    "val a = Circle(10)\n",
    "println(a.r) // radius of the circle is 10\n",
    "val b = Rectangle(5, 7)\n",
    "println(b.h) // height of the rectangle is 5"
   ]
  },
  {
   "cell_type": "code",
   "execution_count": 93,
   "metadata": {
    "collapsed": false
   },
   "outputs": [
    {
     "name": "stdout",
     "output_type": "stream",
     "text": [
      "314.0\n",
      "200.0\n"
     ]
    },
    {
     "name": "stderr",
     "output_type": "stream",
     "text": []
    }
   ],
   "source": [
    "// Defining Algebraic Data Types \n",
    "// e.g. how to find area of rect and circle?\n",
    "// How does Scala type system know Circle and Rect are related?\n",
    "\n",
    "// USE an \"abstract class\"/Hierarchy of Inheritance\n",
    "sealed abstract class Shape\n",
    "case class Circle(r:Int) extends Shape\n",
    "case class Rectangle(h:Int,w:Int) extends Shape\n",
    "\n",
    "def area(a: Shape) = a match {\n",
    "    case Circle(r) => 3.14 * r * r\n",
    "    case Rectangle(h, w) => h * w\n",
    "}\n",
    "\n",
    "println(area(Circle(10)))\n",
    "println(area(Rectangle(10, 20)))"
   ]
  },
  {
   "cell_type": "code",
   "execution_count": 100,
   "metadata": {
    "collapsed": false
   },
   "outputs": [
    {
     "name": "stdout",
     "output_type": "stream",
     "text": [
      "Node(35,Node(20,Leaf(10),Leaf(30)),Node(40,Leaf(37),Leaf(50)))\n",
      "31\n",
      "222\n"
     ]
    },
    {
     "name": "stderr",
     "output_type": "stream",
     "text": []
    }
   ],
   "source": [
    "// binary tree\n",
    "sealed abstract class Tree\n",
    "case class Node(value: Int,\n",
    "                left: Tree,\n",
    "                right: Tree) extends Tree\n",
    "case class Leaf(value: Int) extends Tree\n",
    "\n",
    "val a = Node(20, Leaf(10), Leaf(30))\n",
    "val b = Node(40, Leaf(37), Leaf(50))\n",
    "val c = Node(35, a, b) //a,b nodes are tree\n",
    "println(c)\n",
    "\n",
    "def sumTree(t: Tree):Int = t match {\n",
    "    case Leaf(value) => value // base case\n",
    "    case Node(value, left, right) => value +\n",
    "                                    sumTree(left) +\n",
    "                                    sumTree(right)\n",
    "}\n",
    "println(sumTree(Node(1, Leaf(10), Leaf(20))))\n",
    "println(sumTree(c))"
   ]
  },
  {
   "cell_type": "code",
   "execution_count": 103,
   "metadata": {
    "collapsed": false
   },
   "outputs": [
    {
     "name": "stdout",
     "output_type": "stream",
     "text": [
      "List(20, 30, 40, 50)\n",
      "List(10, 20, 30, 40, 50)\n",
      "List(20, 30, 40, 50, 60)\n",
      "List(20, 30, 40, 50)\n"
     ]
    },
    {
     "name": "stderr",
     "output_type": "stream",
     "text": []
    }
   ],
   "source": [
    "// immutability i.e. java FINAL\n",
    "// \"val\" is immutable in the sense once you bind a value to a symbol\n",
    "// defined as \"val\", the binding can't be changed\n",
    "\n",
    "// good practise that pointers to \"a\" or structure sharing\n",
    "// while original \"a\" is not modified\n",
    "val a = List(20, 30, 40, 50)\n",
    "val b = 10::a\n",
    "println(a) // still List(20, 30, 40, 50)\n",
    "println(b) // List(10, 20, 30, 40, 50)\n",
    "\n",
    "// a++b duplicates a to point to original b\n",
    "val c = a++List(60)\n",
    "println(c) // List(20, 30, 40, 50, 60)\n",
    "println(a) // still List(20, 30, 40, 50)\n",
    "\n",
    "//data sharing efficient for tree data structures"
   ]
  },
  {
   "cell_type": "code",
   "execution_count": 2,
   "metadata": {
    "collapsed": false
   },
   "outputs": [
    {
     "name": "stdout",
     "output_type": "stream",
     "text": [
      "fun1\n",
      "fun2\n",
      "10\n",
      "fun1\n",
      "fun2\n",
      "20\n"
     ]
    },
    {
     "name": "stderr",
     "output_type": "stream",
     "text": []
    }
   ],
   "source": [
    "// non strict evaluation\n",
    "// writing a function like \"if..else\" statement in Scala\n",
    "\n",
    "def fun1() = {println(\"fun1\"); 10}\n",
    "def fun2() = {println(\"fun2\"); 20}\n",
    "\n",
    "def myIf(cond: Boolean, thenPart: Int, elsePart: Int) = {\n",
    "    if(cond) thenPart else elsePart;\n",
    "}\n",
    "\n",
    "println(myIf((1 < 2), fun1(), fun2())) // fun2 runs even if T\n",
    "println(myIf((1 > 2), fun1(), fun2())) // fun1 runs even if F\n",
    "//Scala by default all function calls is \"strict\" \n",
    "// i.e. all expressions e1,e2,... are evaluated before func is called"
   ]
  },
  {
   "cell_type": "code",
   "execution_count": 3,
   "metadata": {
    "collapsed": false
   },
   "outputs": [
    {
     "name": "stdout",
     "output_type": "stream",
     "text": [
      "fun1\n",
      "10\n",
      "fun2\n",
      "20\n"
     ]
    },
    {
     "name": "stderr",
     "output_type": "stream",
     "text": []
    }
   ],
   "source": [
    "// There is a way by which we can make the evaluation of\n",
    "// function parameters non-strict. If we define a functions as\n",
    "// \"def fun(e1: => Int)\" vs fun(e1:Int), the expression passed as a\n",
    "// parameter to \"fun\" is evaluated ONLY when its value is\n",
    "// needed in the body of the function. This is the \"call-by-name\"\n",
    "// method of parameter passing, which is a \"non-strict\" strategy.\n",
    "// i.e. call name of function when needed to be evaluated\n",
    "\n",
    "def myIf(cond: Boolean, thenPart: => Int, elsePart: => Int) = \n",
    "    if (cond) thenPart else elsePart\n",
    "\n",
    "println(myIf((1 < 2), fun1(), fun2()))\n",
    "println(myIf((1 > 2), fun1(), fun2()))"
   ]
  },
  {
   "cell_type": "code",
   "execution_count": 1,
   "metadata": {
    "collapsed": false
   },
   "outputs": [
    {
     "name": "stderr",
     "output_type": "stream",
     "text": []
    },
    {
     "name": "stdout",
     "output_type": "stream",
     "text": [
      "hello\n",
      "hello\n",
      "20\n"
     ]
    }
   ],
   "source": [
    "def hello() = {\n",
    "println(\"hello\")\n",
    "10\n",
    "}\n",
    "def fun(x: => Int) = {\n",
    "x + x // avoid double printing with \"lazy val\" EVAL ONLY ONCE!\n",
    "}\n",
    "val t = fun(hello())\n",
    "println(t)"
   ]
  },
  {
   "cell_type": "code",
   "execution_count": 3,
   "metadata": {
    "collapsed": false
   },
   "outputs": [
    {
     "name": "stdout",
     "output_type": "stream",
     "text": [
      "hello\n",
      "hello\n",
      "20\n"
     ]
    },
    {
     "name": "stderr",
     "output_type": "stream",
     "text": []
    }
   ],
   "source": [
    "def hello() = {\n",
    "println(\"hello\")\n",
    "10\n",
    "}\n",
    "val a = hello() //\"call by name\"\n",
    "lazy val b = hello() // don't print hello. \"call by need\"\n",
    "// \"lazy\" val evaluated only when used somewhere else in code\n",
    "println(b+b)"
   ]
  },
  {
   "cell_type": "code",
   "execution_count": null,
   "metadata": {
    "collapsed": true
   },
   "outputs": [],
   "source": [
    "// If an expression can be replaced by its value without changing the\n",
    "// behaviour of the program, it is said to be referentially transparent\n",
    "// All occurrences of the expression 1+(2*3) can be replaced by\n",
    "// 7 without changing the behaviour of the program.\n",
    "// Say the variable x (in a C program) has initial value 5. It is\n",
    "// NOT possible to replace all occurrences of the statement (x =\n",
    "// x + 1) with the value 6."
   ]
  },
  {
   "cell_type": "code",
   "execution_count": 4,
   "metadata": {
    "collapsed": false
   },
   "outputs": [
    {
     "name": "stdout",
     "output_type": "stream",
     "text": [
      "900\n",
      "800\n"
     ]
    },
    {
     "name": "stderr",
     "output_type": "stream",
     "text": []
    }
   ],
   "source": [
    "// Pure Function always computes the same value given the\n",
    "// same parameters; for example, sin(0) is always 0. It is\n",
    "// \"Referentially Transparent\".\n",
    "\n",
    "// Evaluation of a pure function does not cause any observable\n",
    "// \"side e\u000b",
    "ects\" or output - like mutation of global variables or\n",
    "// output to I/O devices.\n",
    "\n",
    "var balance = 1000\n",
    "def withdraw(amount: Int) = {\n",
    "    balance = balance - amount\n",
    "    balance\n",
    "}\n",
    "println(withdraw(100))\n",
    "println(withdraw(100))"
   ]
  },
  {
   "cell_type": "code",
   "execution_count": 10,
   "metadata": {
    "collapsed": false
   },
   "outputs": [
    {
     "name": "stdout",
     "output_type": "stream",
     "text": [
      "John is the winner!! \n",
      "()\n"
     ]
    },
    {
     "name": "stderr",
     "output_type": "stream",
     "text": []
    }
   ],
   "source": [
    "// Functional - A style of programming which emphasizes composing your program\n",
    "// out of PURE functions and immutable data.\n",
    "\n",
    "// In order for this style to be e\u000b",
    "ective in the construction of real\n",
    "// world programs, we make use of most of the ideas seen so far\n",
    "// (higher order functions, lexical closures, currying, immutable and\n",
    "// persistent datastructures, lazy evaluation etc)\n",
    "\n",
    "// idea is to write your program in such a way that it has a\n",
    "// purely functional core, surrounded by a few \"impure\"\n",
    "// functions at the outer layers\n",
    "\n",
    "case class Player(name: String, score: Int)\n",
    "\n",
    "def declareWinner(p: Player) =\n",
    "    println(p.name + \" is the winner!! \")\n",
    "\n",
    "def winner(p1: Player, p2: Player) =\n",
    "    if(p1.score > p2.score) declareWinner(p1) //impure function\n",
    "    else declareWinner(p2)\n",
    "\n",
    "println(winner(Player(\"Ram\", 10), Player(\"John\", 20)))"
   ]
  },
  {
   "cell_type": "code",
   "execution_count": 11,
   "metadata": {
    "collapsed": false
   },
   "outputs": [
    {
     "name": "stdout",
     "output_type": "stream",
     "text": [
      "John is the winner!! \n",
      "()\n"
     ]
    },
    {
     "name": "stderr",
     "output_type": "stream",
     "text": []
    }
   ],
   "source": [
    "// refactor winner - seperate computation\n",
    "def maxScore(p1: Player, p2: Player) = // \"inner layer\" Pure function\n",
    "    if (p1.score > p2.score) p1 else p2\n",
    "\n",
    "def winner(p1: Player, p2: Player) = // now winner is impure at \"outer layer\"\n",
    "    declareWinner(maxScore(p1, p2))\n",
    "\n",
    "// 2 players\n",
    "println(winner(Player(\"Ram\", 10), Player(\"John\", 20)))"
   ]
  },
  {
   "cell_type": "code",
   "execution_count": 12,
   "metadata": {
    "collapsed": false
   },
   "outputs": [
    {
     "name": "stdout",
     "output_type": "stream",
     "text": [
      "Player(Hari,20)\n"
     ]
    },
    {
     "name": "stderr",
     "output_type": "stream",
     "text": []
    }
   ],
   "source": [
    "// N players\n",
    "val players = List(Player(\"Ram\", 10),\n",
    "    Player(\"John\", 15),\n",
    "    Player(\"Hari\", 20),\n",
    "    Player(\"Krishna\", 17))\n",
    "\n",
    "println(players.reduceLeft(maxScore))\n",
    "// easy to reuse PURE functions MaxScore since they have no context\n",
    "// other than function parameters vs. reusing winner from 1st definition (very hard!)\n",
    "\n",
    "// Pure functions and the bene\f",
    "t of \"local reasoning\"\n",
    "// FP's emphasis on pure functions and immutability is a good match\n",
    "// for concurrent programming.\n",
    "\n",
    "// If your function modi\f",
    "es an object which is accessible from\n",
    "// many other functions, the e\u000b",
    "ect of calling the function is\n",
    "// much more complex to analyse because you now have to\n",
    "// analyse how all these other functions get a\u000b",
    "ected by the\n",
    "// mutation.\n",
    "// i.e. function wraps other function\n",
    "// i.e. inner function accepts Int, you change outer function input to Str?\n",
    "\n",
    "// Similarly, if the value computed by your function depends on\n",
    "// the value of an object which can be modi\f",
    "ed by many other\n",
    "// functions, it no longer becomes possible to reason about the\n",
    "// working of the function by only looking at the way the\n",
    "// function's parameters are manipulated.\n",
    "// i.e. output changes cause inout is changed by other functions\n",
    "\n",
    "// The evaluation of pure functions can be done by a very simple\n",
    "// process of \"substitution\"."
   ]
  },
  {
   "cell_type": "code",
   "execution_count": null,
   "metadata": {
    "collapsed": true
   },
   "outputs": [],
   "source": [
    "// class ProtectedResource {\n",
    "//     private Resource theResource = ...;\n",
    "//     private String [] allowedUsers = ...;\n",
    "//     public String[] getAllowedUsers() {\n",
    "//         return allowedUsers;\n",
    "//     }\n",
    "//     public String currentUser() { ... }\n",
    "//     public void useTheResource() {\n",
    "//     for(int i = 0; i < allowedUsers.length; i++) {\n",
    "//         if(currentUser().equals(allowedUsers[i]) {\n",
    "//         ... // access allowed; use it!\n",
    "//         }\n",
    "//     }\n",
    "//     throw new IllegalAccessException();\n",
    "//     }\n",
    "// }\n",
    "   \n",
    "// p.getAllowedUsers[0] = p.currentUser()\n",
    "// p.useTheResource()\n",
    "   \n",
    "// java String[] allowedUsers is mutable and this creates security issue\n",
    "// scala immutable list representing \"allowedUsers\" will simply return a new obj,\n",
    "// without altering the original obj"
   ]
  },
  {
   "cell_type": "code",
   "execution_count": null,
   "metadata": {
    "collapsed": true
   },
   "outputs": [],
   "source": [
    "//concurrency in code\n",
    "// every function that mutates some data needs to be known by other functions\n",
    "// trade off btw LOCKING and AVAILABILITY CAP"
   ]
  },
  {
   "cell_type": "code",
   "execution_count": null,
   "metadata": {
    "collapsed": true
   },
   "outputs": [],
   "source": []
  },
  {
   "cell_type": "code",
   "execution_count": null,
   "metadata": {
    "collapsed": true
   },
   "outputs": [],
   "source": []
  },
  {
   "cell_type": "code",
   "execution_count": null,
   "metadata": {
    "collapsed": true
   },
   "outputs": [],
   "source": []
  },
  {
   "cell_type": "code",
   "execution_count": null,
   "metadata": {
    "collapsed": true
   },
   "outputs": [],
   "source": []
  }
 ],
 "metadata": {
  "kernelspec": {
   "display_name": "Scala 2.11",
   "language": "scala",
   "name": "scala-2.11"
  },
  "language_info": {
   "codemirror_mode": "text/x-scala",
   "file_extension": "scala",
   "mimetype": "text/x-scala",
   "name": "scala"
  }
 },
 "nbformat": 4,
 "nbformat_minor": 1
}
